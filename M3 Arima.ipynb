{
 "metadata": {
  "name": "",
  "signature": "sha256:a58c5581a84236c103eca33c302f2ac71215f7cf6f9ccb38bf345b95b09bc0d0"
 },
 "nbformat": 3,
 "nbformat_minor": 0,
 "worksheets": [
  {
   "cells": [
    {
     "cell_type": "code",
     "collapsed": false,
     "input": [
      "from statsmodels.tsa.arima_model import ARIMA\n",
      "import numpy as np\n",
      "import json\n",
      "from time import time\n",
      "import pickle"
     ],
     "language": "python",
     "metadata": {},
     "outputs": [],
     "prompt_number": 120
    },
    {
     "cell_type": "code",
     "collapsed": false,
     "input": [
      "def mean_absolute_percentage_error(y_true, y_pred): \n",
      "    \"\"\"\n",
      "    Use of this metric is not recommended; for illustration only. \n",
      "    See other regression metrics on sklearn docs:\n",
      "      http://scikit-learn.org/stable/modules/classes.html#regression-metrics\n",
      "\n",
      "    Use like any other metric\n",
      "    >>> y_true = [3, -0.5, 2, 7]; y_pred = [2.5, -0.3, 2, 8]\n",
      "    >>> mean_absolute_percentage_error(y_true, y_pred)\n",
      "    Out[]: 24.791666666666668\n",
      "    \"\"\" \n",
      "    return np.mean(np.abs((y_true - y_pred) / y_true)) * 100"
     ],
     "language": "python",
     "metadata": {},
     "outputs": [],
     "prompt_number": 115
    },
    {
     "cell_type": "code",
     "collapsed": false,
     "input": [
      "def parse_line(line, n_predictions):\n",
      "    line = line.split(',')\n",
      "    n_samples = int(line[1])\n",
      "    start_idx = 6\n",
      "    end_idx = n_samples + start_idx\n",
      "    test_idx = end_idx - n_predictions\n",
      "    train_dat = np.array(line[start_idx:test_idx]).astype(np.float)\n",
      "    test_dat = np.array(line[test_idx: end_idx]).astype(np.float)\n",
      "\n",
      "    return train_dat, test_dat"
     ],
     "language": "python",
     "metadata": {},
     "outputs": [],
     "prompt_number": 116
    },
    {
     "cell_type": "code",
     "collapsed": false,
     "input": [
      "def arima_predict(train_dat, n_predictions, p=2, d=0, q=0):\n",
      "    arima = ARIMA(np.array(train_dat).astype(np.float), [p, d, q])\n",
      "    diffed_logged_results = arima.fit(trend='c', disp=False)\n",
      "    preds = diffed_logged_results.predict(len(train_dat),\n",
      "                                          len(train_dat) + n_predictions - 1,\n",
      "                                          exog=None, dynamic=False)\n",
      "    return preds\n"
     ],
     "language": "python",
     "metadata": {},
     "outputs": [],
     "prompt_number": 117
    },
    {
     "cell_type": "code",
     "collapsed": false,
     "input": [
      "def score_period(period, pred_values, true_values):\n",
      "    delay_scores = []\n",
      "    # score for each prediction step into the future (ie, 1, 2, 3..)\n",
      "    for jj in range(pred[period].shape[1]):\n",
      "        mape = mean_absolute_percentage_error(true[period][:, jj], pred[period][:, jj])\n",
      "        delay_scores.append(mape)\n",
      "        print 'Delay {:2.0f}\\t MAPE: {:.2f}'.format(jj, mape)\n",
      "    return delay_scores\n"
     ],
     "language": "python",
     "metadata": {},
     "outputs": [],
     "prompt_number": 118
    },
    {
     "cell_type": "code",
     "collapsed": false,
     "input": [
      "periods = {'Month': {'n_predictions': 18,\n",
      "                     'pred_values': [],\n",
      "                     'true_values': [],\n",
      "                     'model_params': {'p': 1, 'd': 0, 'q': 0}},\n",
      "         'Year': {'n_predictions': 6,\n",
      "                     'pred_values': [],\n",
      "                     'true_values': [],\n",
      "                     'model_params': {'p': 1, 'd': 0, 'q': 0}},\n",
      "         'Quart': {'n_predictions': 8,\n",
      "                     'pred_values': [],\n",
      "                     'true_values': [],\n",
      "                     'model_params': {'p': 1, 'd': 0, 'q': 0}},\n",
      "         'Other': {'n_predictions': 8,\n",
      "                     'pred_values': [],\n",
      "                     'true_values': [],\n",
      "                     'model_params': {'p': 1, 'd': 0, 'q': 0}}}\n",
      "\n",
      "# run training for each period\n",
      "for period in periods.keys():\n",
      "    fname = '{}_M3C.csv'.format(period)    \n",
      "    p, d, q = [periods[period]['model_params'][k] for k in ['p', 'd', 'q']]\n",
      "    with open(fname, 'r') as f:\n",
      "        print 'doing ', fname\n",
      "\n",
      "        start_dt = time()\n",
      "        for i, l in enumerate(f):\n",
      "            if i == 0:\n",
      "                continue\n",
      "            elif i % 100 == 0:\n",
      "                print '{:4.0f} predictions in {:4.0f} seconds'.format(i, time() - start_dt)\n",
      "        \n",
      "            train_dat, test_dat = parse_line(l, periods[period]['n_predictions'])            \n",
      "            periods[period]['true_values'].append(test_dat)\n",
      "            periods[period]['pred_values'].append(arima_predict(train_dat, periods[period]['n_predictions'], p, d, q))\n",
      "\n",
      "        periods[period]['pred_values'] = np.array(periods[period]['pred_values'])\n",
      "        periods[period]['true_values'] = np.array(periods[period]['true_values'])\n",
      "        scores = score_period(period, periods[period]['true_values'], periods[period]['pred_values'])\n",
      "        periods[period]['scores'] = scores\n",
      "\n",
      "with open('results.pkl', 'wb') as f:\n",
      "    print 'Writing results to results.pkl'\n",
      "    pickle.dump(periods, f)\n"
     ],
     "language": "python",
     "metadata": {},
     "outputs": [
      {
       "output_type": "stream",
       "stream": "stdout",
       "text": [
        "doing  Year_M3C.csv\n",
        " 100 predictions in   14 seconds"
       ]
      },
      {
       "output_type": "stream",
       "stream": "stdout",
       "text": [
        "\n",
        " 200 predictions in   31 seconds"
       ]
      },
      {
       "output_type": "stream",
       "stream": "stdout",
       "text": [
        "\n",
        " 300 predictions in   51 seconds"
       ]
      },
      {
       "output_type": "stream",
       "stream": "stdout",
       "text": [
        "\n",
        " 400 predictions in   62 seconds"
       ]
      },
      {
       "output_type": "stream",
       "stream": "stdout",
       "text": [
        "\n",
        " 500 predictions in   77 seconds"
       ]
      },
      {
       "output_type": "stream",
       "stream": "stdout",
       "text": [
        "\n",
        " 600 predictions in   97 seconds"
       ]
      },
      {
       "output_type": "stream",
       "stream": "stdout",
       "text": [
        "\n",
        "Delay  0\t MAPE: 8.88"
       ]
      },
      {
       "output_type": "stream",
       "stream": "stdout",
       "text": [
        "\n",
        "Delay  1\t MAPE: 19.64\n",
        "Delay  2\t MAPE: 21.28\n",
        "Delay  3\t MAPE: 23.20\n",
        "Delay  4\t MAPE: 25.13\n",
        "Delay  5\t MAPE: 27.79\n",
        "Writing results to results.pkl\n"
       ]
      }
     ],
     "prompt_number": 123
    },
    {
     "cell_type": "code",
     "collapsed": false,
     "input": [],
     "language": "python",
     "metadata": {},
     "outputs": []
    }
   ],
   "metadata": {}
  }
 ]
}